{
 "cells": [
  {
   "cell_type": "markdown",
   "id": "98785f22",
   "metadata": {},
   "source": [
    "# TP 3: Hasting-Metropolis (and Gibbs) samplers\n",
    "\n",
    "Student: Ramón Daniel REGUEIRO ESPIÑO"
   ]
  },
  {
   "cell_type": "markdown",
   "id": "fdafaf42",
   "metadata": {},
   "source": [
    "## Exercise 2: Multiplicative Hasting-Metropolis\n",
    "\n",
    "\n",
    "#### 1.Determine the density of the jumping distribution $Y\\sim q(X,Y)$."
   ]
  },
  {
   "cell_type": "markdown",
   "id": "af6162d7",
   "metadata": {},
   "source": [
    "We highlight that the considered $f$ is a density function on $]-1,1[$.\n",
    "Also, we have for each state a $\\mathcal{B}\\sim \\text{Bern}(\\frac{1}{2})$. Then, if $B$=1 our proposal is $Y=\\varepsilon X$. Otherwise, our proposal is $Y=\\frac{X}{\\varepsilon}$. Finally, we accept our candidate $Y$ with a probability given by $\\alpha(X,Y)$.\n",
    "\n",
    "We highlight that, if $X=0$. Then $Y=0$.\n",
    "\n",
    "For $X\\neq 0$, we consider a measurable and bounded function $h(y)$ and we compute $\\mathbb{E}[h(Y)]$. Then, we have that\n",
    "\n",
    "$$\n",
    "\\mathbb{E}[h(Y)]=\\mathbb{E}[h(Y)|\\mathcal{B}=1] P(\\mathcal{B}=1)+\\mathbb{E}[h(Y)|\\mathcal{B}=0] P(\\mathcal{B}=0)=\\\\\n",
    "\\frac{1}{2}\\mathbb{E}[h(\\varepsilon X)|\\mathcal{B}=1] +\n",
    "\\frac{1}{2}\\mathbb{E}[h(\\frac{X}{\\varepsilon})|\\mathcal{B}=0])=\\\\\n",
    "\\frac{1}{2} \\int_{-1}^{1} h(\\varepsilon X) f(\\varepsilon) d\\varepsilon +\\frac{1}{2} \\int_{-1}^{1} h(\\frac{X}{\\varepsilon}) f(\\varepsilon) d\\varepsilon\n",
    ".$$"
   ]
  },
  {
   "cell_type": "markdown",
   "id": "dd80e9e2",
   "metadata": {},
   "source": [
    "If $X>0$, we introduce the variable changes $z=\\varepsilon y$ and $z=\\frac{X}{\\varepsilon}$ and we obtain\n",
    "$$\n",
    "\\mathbb{E}[h(Y)]=\\frac{1}{2} \\int_{-1}^{1} h(\\varepsilon X) f(\\varepsilon) d\\varepsilon +\\frac{1}{2} \\int_{-1}^{0} h(\\frac{X}{\\varepsilon}) f(\\varepsilon) d\\varepsilon+\\frac{1}{2} \\int_{0}^{1} h(\\frac{X}{\\varepsilon}) f(\\varepsilon) d\\varepsilon=\\\\\n",
    "\\frac{1}{2} \\int_{-X}^{X} h(z) f(\\frac{z}{X}) \\frac{1}{X} dz\n",
    "+\\frac{1}{2} \\int_{-\\infty}^{-X} h(z) f(\\frac{X}{z}) \\frac{X}{z^2} dz +  \\frac{1}{2} \\int_{X}^{+\\infty} h(z) f(\\frac{X}{z}) \\frac{X}{z^2}  dz\n",
    ".$$\n",
    "\n",
    "Then, we have that\n",
    "$$q(X,Y)=\\frac{1}{2}f(\\frac{Y}{X}) \\frac{1}{X} \\mathbb{1}_{|Y|< |X|} +\n",
    "\\frac{1}{2}f(\\frac{X}{Y})\\frac{X}{Y^2} \\mathbb{1}_{|Y|> |X|}.$$ "
   ]
  },
  {
   "cell_type": "markdown",
   "id": "12538c36",
   "metadata": {},
   "source": [
    "In the same way, if $X<0$, we obtain\n",
    "$$\n",
    "\\mathbb{E}[h(Y)]=\\frac{1}{2} \\int_{-1}^{1} h(\\varepsilon X) f(\\varepsilon) d\\varepsilon +\\frac{1}{2} \\int_{-1}^{0} h(\\frac{X}{\\varepsilon}) f(\\varepsilon) d\\varepsilon+\\frac{1}{2} \\int_{0}^{1} h(\\frac{X}{\\varepsilon}) f(\\varepsilon) d\\varepsilon=\\\\\n",
    "-\\frac{1}{2} \\int_{X}^{-X} h(z) f(\\frac{z}{X}) \\frac{1}{X} dz\n",
    "-\\frac{1}{2} \\int_{-X}^{\\infty} h(z) f(\\frac{X}{z}) \\frac{X}{z^2} dz -  \\frac{1}{2} \\int_{-\\infty}^{X} h(z) f(\\frac{X}{z}) \\frac{X}{z^2}  dz\n",
    ".$$\n",
    "\n",
    "Then, we have that\n",
    "$$q(X,Y)=-\\frac{1}{2}f(\\frac{Y}{X}) \\frac{1}{X} \\mathbb{1}_{|Y|< |X|} -\n",
    "\\frac{1}{2}f(\\frac{X}{Y})\\frac{X}{Y^2} \\mathbb{1}_{|Y|> |X|}.$$ \n",
    "\n",
    "So, we have\n",
    "\n",
    "$$\n",
    "q(X,Y)=\n",
    "\\left\\{\n",
    "\\begin{array}{ll}\n",
    "0, \\; \\text{ if } X=0,\\\\\n",
    "\\frac{1}{2}f(\\frac{Y}{X}) \\frac{1}{|X|} \\mathbb{1}_{|Y|< |X|} +\n",
    "\\frac{1}{2}f(\\frac{X}{Y})\\frac{|X|}{Y^2} \\mathbb{1}_{|Y|> |X|}, \\; \\text{ otherwhise}.\n",
    "\\end{array}\n",
    "\\right.\n",
    "$$"
   ]
  },
  {
   "cell_type": "markdown",
   "id": "4f790b02",
   "metadata": {},
   "source": [
    "#### 2. Compute the acceptation ratio $\\alpha$ so that the chain has a given distribution $\\pi$ as invariant distribution."
   ]
  },
  {
   "cell_type": "markdown",
   "id": "2cc2a817",
   "metadata": {},
   "source": [
    "From now, we consider $X\\neq 0$ and a proposal $Y\\neq 0$. We have that $$\\alpha(X,Y)=\\min \\left( 1,\\frac{q(Y,X)}{q(X,Y)} \\frac{\\pi(Y)}{\\pi(X)}\\right).$$\n",
    "\n",
    "From the previous question, we have that\n",
    "$$\n",
    "\\frac{q(Y,X)}{q(X,Y)}= \\frac{\n",
    "f(\\frac{X}{Y}) \\frac{1}{|Y|} \\mathbb{1}_{|X|< |Y|} +\n",
    "f(\\frac{Y}{X})\\frac{|Y|}{X^2} \\mathbb{1}_{|X|> |Y|}}\n",
    "{f(\\frac{Y}{X}) \\frac{1}{|X|} \\mathbb{1}_{|Y|< |X|} +\n",
    "f(\\frac{X}{Y})\\frac{|X|}{Y^2} \\mathbb{1}_{|Y|> |X|}}=\\\\\n",
    "\\frac{f(\\frac{X}{Y})\\frac{1}{|Y|}}\n",
    "{f(\\frac{X}{Y})\\frac{|X|}{Y^2}} \\mathbb{1}_{|X|< |Y|}+\n",
    "\\frac{f(\\frac{Y}{X})\\frac{|Y|}{X^2}}\n",
    "{f(\\frac{Y}{X}) \\frac{1}{|X|}}\\mathbb{1}_{|X|> |Y|}=\\\\\n",
    "\\frac{|Y|}{|X|} \\mathbb{1}_{|X|< |Y|}+\n",
    "\\frac{|Y|}{|X|}\\mathbb{1}_{|X|> |Y|}=\\frac{|Y|}{|X|} \n",
    ".$$\n",
    "\n",
    "So, we obtain that\n",
    "\n",
    "$$\\alpha(X,Y)=\\min \\left( 1,\\frac{q(Y,X)}{q(X,Y)} \\frac{\\pi(Y)}{\\pi(X)}\\right)=\\min \\left( 1,\\frac{|Y|}{|X|} \\frac{\\pi(Y)}{\\pi(X)}\\right) .$$"
   ]
  },
  {
   "cell_type": "markdown",
   "id": "d17a6155",
   "metadata": {},
   "source": [
    "#### 3. Implement this sampler for two different target distributions : the first one being a distribution from which we can sample using the inverse transform method and the second one is of your choice"
   ]
  },
  {
   "cell_type": "markdown",
   "id": "ed19d9d5",
   "metadata": {},
   "source": [
    "For the inverse transform method we consider a exponential distribution with parameter $\\lambda=1$. In this case, we sample an $u_i$ from $U(0,1)$. Then, we have that $x_i=-\\frac{1}{\\lambda} \\log (1-u_i)$ follows an exponential distribution.\n",
    "\n",
    "For the second distribution, we consider the $\\mathcal{N}(0,1^2)$ as we can use the algorithm described on the TP 1 to generate it."
   ]
  },
  {
   "cell_type": "code",
   "execution_count": 1,
   "id": "3b528de8",
   "metadata": {},
   "outputs": [],
   "source": [
    "import numpy as np\n",
    "import matplotlib.pyplot as plt"
   ]
  },
  {
   "cell_type": "code",
   "execution_count": 2,
   "id": "402b84c3",
   "metadata": {},
   "outputs": [],
   "source": [
    "def Multiplicative_MH(x_0,N,par_dis=1,distribution='exponential'):\n",
    "    def alpha_calc(x,y,pi_x,pi_y):\n",
    "        aux=abs(y/x)*pi_y/pi_x\n",
    "        alpha=min(1,aux)\n",
    "        return alpha\n",
    "    def proposal(X):\n",
    "        eps=np.random.uniform(-1,1)\n",
    "        B=np.random.uniform(0,1)\n",
    "        if B<0.5:\n",
    "            prop=eps*X\n",
    "        else:\n",
    "            prop=X/eps\n",
    "        return prop\n",
    "    if distribution=='exponential':\n",
    "        def pi(x,par_dis):\n",
    "            import scipy as sp\n",
    "            from scipy import stats\n",
    "            aux=sp.stats.expon.pdf(x,0,par_dis)\n",
    "            return aux\n",
    "    else:\n",
    "        def pi(x,par_dis):\n",
    "            aux=np.exp(0.5*(x-par_dis[0])*(par_dis[0]-x)/par_dis[1])\n",
    "            aux=aux/np.sqrt(par_dis[1]*2*np.pi)\n",
    "            return aux\n",
    "\n",
    "    iter_evol=[x_0]\n",
    "    while len(iter_evol)<N:        \n",
    "        y=proposal(x_0)\n",
    "        pi_x=pi(x_0,par_dis)\n",
    "        pi_y=pi(y,par_dis)\n",
    "        \n",
    "        u=np.random.uniform(0,1)\n",
    "        alpha=alpha_calc(x_0,y,pi_x,pi_y)\n",
    "        if u<alpha:\n",
    "            x_0=y\n",
    "        iter_evol.append(x_0)\n",
    "    \n",
    "    return iter_evol"
   ]
  },
  {
   "cell_type": "markdown",
   "id": "bd47f1e4",
   "metadata": {},
   "source": [
    "#### 4. Evaluate, in each case, the match of your samples."
   ]
  },
  {
   "cell_type": "code",
   "execution_count": 3,
   "id": "60dbb0db",
   "metadata": {},
   "outputs": [],
   "source": [
    "def algo_TP1(mu,var):\n",
    "    #Generation of a data following a given normal distribution\n",
    "    u_1=np.random.uniform(0,1)\n",
    "    u_2=np.random.uniform(0,1)\n",
    "    R=np.sqrt(-2*np.log(1-u_1))\n",
    "    x=R*np.cos(2*u_2*np.pi)\n",
    "    coord_x=np.sqrt(var)*x+mu\n",
    "    return coord_x\n",
    "\n",
    "def expon_sampl(param):\n",
    "    # Generation of the exponential distribution using the inverse transform\n",
    "    u=np.random.uniform(0,1)\n",
    "    x=-np.log(1-u)/param\n",
    "    return x"
   ]
  },
  {
   "cell_type": "code",
   "execution_count": 4,
   "id": "ad02c4d0",
   "metadata": {},
   "outputs": [],
   "source": [
    "N=10000\n",
    "rand_sampl_normal=[]\n",
    "mu=0\n",
    "sigma2=1\n",
    "exp_par=1\n",
    "for i in range(N):\n",
    "    x=algo_TP1(mu,sigma2)\n",
    "    rand_sampl_normal.append(x)\n",
    "rand_sampl_exp=[]\n",
    "for i in range(N):\n",
    "    x=expon_sampl(exp_par)\n",
    "    rand_sampl_exp.append(x)"
   ]
  },
  {
   "cell_type": "code",
   "execution_count": 5,
   "id": "93f2cffa",
   "metadata": {},
   "outputs": [],
   "source": [
    "x_0=1\n",
    "par_dis=[0,1]\n",
    "mu=0\n",
    "sigma2=1\n",
    "exp_par=1\n",
    "\n",
    "sim_sampl_normal=Multiplicative_MH(x_0,N,par_dis,distribution='normal')\n",
    "\n",
    "x_0=2\n",
    "par_dis=1\n",
    "sim_sampl_exp=Multiplicative_MH(x_0,N,par_dis,distribution='exponential')"
   ]
  },
  {
   "cell_type": "code",
   "execution_count": 6,
   "id": "0a106ec7",
   "metadata": {},
   "outputs": [
    {
     "data": {
      "image/png": "[encoded data removed]",
      "text/plain": [
       "<Figure size 640x480 with 1 Axes>"
      ]
     },
     "metadata": {},
     "output_type": "display_data"
    },
    {
     "data": {
      "image/png": "[encoded data removed]",
      "text/plain": [
       "<Figure size 640x480 with 1 Axes>"
      ]
     },
     "metadata": {},
     "output_type": "display_data"
    }
   ],
   "source": [
    "plt.figure()\n",
    "plt.hist(rand_sampl_normal,bins=100,alpha=0.5,label='Alternative simulation')\n",
    "plt.hist(sim_sampl_normal,bins=100,alpha=0.5,label='MMH Generated')\n",
    "plt.title('Normal distribution')\n",
    "plt.legend(loc='upper right')\n",
    "plt.show()\n",
    "plt.figure()\n",
    "plt.hist(rand_sampl_exp,bins=100,alpha=0.5,label='Alternative simulation')\n",
    "plt.hist(sim_sampl_exp,bins=100,alpha=0.5,label='MMH  Generated')\n",
    "plt.title('Exponential distribution')\n",
    "plt.legend(loc='upper right')\n",
    "plt.show()"
   ]
  },
  {
   "cell_type": "markdown",
   "id": "e469be5a",
   "metadata": {},
   "source": [
    "We have that the results for the data generated using a Multiplicative MH are quite similar than the ones generated using an alternative method."
   ]
  },
  {
   "cell_type": "markdown",
   "id": "bb9b3abd",
   "metadata": {},
   "source": [
    "## Exercise 3: Data augmentation\n",
    "\n",
    "#### 1. Show that the bivariate process $\\{(X_n,Y_n),n\\geq 0\\}$ is a Markov chain. Give the expression of its transition kernel as a function of the quantities defined above."
   ]
  },
  {
   "cell_type": "markdown",
   "id": "0ddd0fce",
   "metadata": {},
   "source": [
    "We consider a measurable and bounded function $h(x,y)$.\n",
    "\n",
    "By taking into account the generation of $(X_n,Y_n)$ described in the Algorithm 4, we have that\n",
    "$$\\mathbb{E}[h(X_{n+1},Y_{n+1})|X_1, \\cdots , X_n,Y_1, \\cdots, Y_n]=\\\\\n",
    "\\iint h(x,y) f_{X_{n+1}|X_1, \\cdots , X_n,Y_1, \\cdots, Y_n}(x) f_{Y_{n+1}|X_1, \\cdots , X_n,Y_1, \\cdots, Y_n}(x) dx \\, dy=\\\\\n",
    "\\iint h(x,y) f_{X|Y}(x,Y_n) f_{Y|X}(x,y) dx \\, dy\n",
    ".$$\n",
    "\n",
    "So, it only depends on the previous value $(X_n,Y_n)$. Hence, it is a Markov chain with transition kernel\n",
    "\n",
    "$$\n",
    "P((X_n,Y_n),A=(A_x,A_y))=\\int_{A_y} \\int_{A_x} f_{X|Y} (x,Y_{n}) f_{Y|X} (x,y) dx \\, dy\n",
    ".$$"
   ]
  },
  {
   "cell_type": "markdown",
   "id": "ac3d4fdb",
   "metadata": {},
   "source": [
    "#### 2. Show that $\\{Y_n, n\\geq 0 \\}$ s a Markov chain : give the expression of its transition kernel and prove that $f_Y(y)dy$ is invariant for this kernel."
   ]
  },
  {
   "cell_type": "markdown",
   "id": "3cef3372",
   "metadata": {},
   "source": [
    "We consider a measurable and bounded function $h(y)$. Then, we have that\n",
    "$$\\mathbb{E}[h(Y_{n+1})|Y_1, \\cdots, Y_n]=\n",
    "\\int_{\\mathbb{R}^q} h(y) f_{Y_{n+1}|Y_1, \\cdots, Y_n}(y) dy=\\\\\n",
    "\\int_{\\mathbb{R}^p} \\int_{\\mathbb{R}^q} h(y) f_{Y_{n+1}|Y_1, \\cdots, Y_n,x}(y) f_{X|Y} (x,Y_{n})  dy \\, dx=\\\\\n",
    "\\int_{\\mathbb{R}^q} \\int_{\\mathbb{R}^p} h(y) f_{Y_{n+1}|Y_1, \\cdots, Y_n,x}(y) f_{X|Y} (x,Y_{n})  dx \\, dy=\\\\\n",
    "\\int_{\\mathbb{R}^q} \\int_{\\mathbb{R}^p} h(y) f_{Y|X}(x,y) f_{X|Y} (x,Y_{n})  dx \\, dy\n",
    ".$$\n",
    "\n",
    "We have that $Y_{n+1}$ and $Y_{n}$ are conditional independent if $X_n$ is known by the Algorithm 4, so\n",
    "$f_{Y|X}(X_n,\\cdot)=f_{Y|X,Y_{n}}(X_n,\\cdot,Y_{n})$. Then,\n",
    "\n",
    "$$\\mathbb{E}[h(Y_{n+1})|Y_1, \\cdots, Y_n]=\n",
    "\\int_{\\mathbb{R}^q} \\int_{\\mathbb{R}^p} h(y) f_{Y|X}(x,y) f_{X|Y} (x,Y_{n}) dx \\, dy =\\\\\n",
    "\\int_{\\mathbb{R}^q} \\int_{\\mathbb{R}^p} h(y) f_{Y|X_n,Y_{n+1}}(x,y,Y_{n}) f_{x|Y_{n}} (x) dx \\, dy \n",
    "= \\int_{\\mathbb{R}^q} h(y)  f_{Y|Y_{n}}(y,Y_{n}) dy\n",
    ".$$\n",
    "Consequently, it only depends on the previous value. So, $\\{Y_n,n \\geq 0\\}$ is a Markov chain with transition kernel\n",
    "\n",
    "$$\n",
    "P(y_n,A)=\\int_{A} f_{Y|Y_{n}}(y,Y_{n}) dy\n",
    ".$$\n",
    "\n",
    "\n",
    "We show that $f_Y (y)$ is invariant for this kernel. We have that\n",
    "$$\\int_{\\mathbb{R}} P(y,y_{\\text{new}}) f_Y (y) dy=\n",
    "\\int_{\\mathbb{R}} f_{Y|Y_n}(y,y_{\\text{new}}) f_Y (y) dy=\n",
    "f_Y (y_{\\text{new}}).$$"
   ]
  },
  {
   "cell_type": "markdown",
   "id": "724d5bcb",
   "metadata": {},
   "source": [
    "#### 3. Describe a Gibbs algorithm to approximate the distribution on $\\mathbb{R}\\times \\mathbb{R}$ with density $f$."
   ]
  },
  {
   "cell_type": "markdown",
   "id": "5498fe6c",
   "metadata": {},
   "source": [
    "We consider the function\n",
    "$$f(x,y)=\\frac{4}{\\sqrt{2\\pi}} y^{\\frac{3}{2}} \\text{exp} \\left[-y \\left( \\frac{x^2}{2}+2\\right)\\right] \\mathbb{1}_{y \\in \\mathbb{R}^+}\n",
    ".$$\n",
    "By the definition of $f_X(x)$ and $f_Y (y)$ we have that\n",
    "$$f_X (x)= \\int_{0}^{+\\infty} \\frac{4}{\\sqrt{2 \\pi}} y^{\\frac{3}{2}} \\text{exp} \\left[-y \\left( \\frac{x^2}{2}+2\\right)\\right] dy=\n",
    "\\frac{4 \\Gamma (\\frac{5}{2})}{\\sqrt{2 \\pi} (\\frac{x^2}{2}+2)^{\\frac{5}{2}}}\n",
    "$$\n",
    "and\n",
    "$$f_Y (y)=4 e^{-2y}  y \\int \\frac{1}{\\sqrt{2 \\pi y^{-1}}}  e^{-\\frac{x^2}{2 y^{-1}}} dx = 4 y e^{-2y}\n",
    ".$$\n",
    "\n",
    "Moreover, we have that\n",
    "$$f_{X|Y}(x,y)=\\frac{f(x,y)}{f_Y (y)}=\n",
    "\\frac{\\frac{4}{\\sqrt{2\\pi}} y^{\\frac{3}{2}} \\text{exp} \\left[-y \\left( \\frac{x^2}{2}+2\\right)\\right] \\mathbb{1}_{y \\in \\mathbb{R}^+}}\n",
    "{4 y e^{-2y}}=\n",
    "\\frac{1}{\\sqrt{2\\pi  y^{-1} }} e^{-\\frac{x^2}{2 y^{-1}}}\n",
    ".$$\n",
    "\n",
    "So $f_{X|Y}$ is a gaussian distribution of parameters $\\mu=0$ and $\\sigma^2=y^{-1}$.\n",
    "\n",
    "In addition,\n",
    "$$f_{Y|X}(x,y)=\\frac{(\\frac{x^2}{2}+2)^{\\frac{5}{2}}}{\\Gamma(\\frac{5}{2})} e^{-y(\\frac{x^2}{2}+2)} y^{\\frac{3}{2}}.$$\n",
    "\n",
    "Then $f_{Y|X}$ is a gamma distribution of parameters $k=\\frac{5}{2}$ and $\\theta=\\frac{1}{\\frac{x^2}{2}+2}$."
   ]
  },
  {
   "cell_type": "code",
   "execution_count": 7,
   "id": "ede41d8c",
   "metadata": {},
   "outputs": [],
   "source": [
    "def Gibbs_exo3(x_0,y_0,N,):\n",
    "    x=x_0\n",
    "    y=y_0\n",
    "    sim=np.zeros((N+1,2))\n",
    "    sim[0,:]=[x_y]\n",
    "    for i in range(1,N+1):\n",
    "        x=np.random.normal(loc=0.0,scale=np.sqrt(1/y))\n",
    "        y=np.random.gamma(shape=2.5,scale=1/(2+x*x/2))\n",
    "        sim[i,:]=[x,y]\n",
    "    return sim"
   ]
  },
  {
   "cell_type": "markdown",
   "id": "7a2e27ee",
   "metadata": {},
   "source": [
    "#### 4. Let $H$ be a bounded function on $\\mathbb{R}$. Explain how to approximate $\\int_{\\mathbb{R}} \\frac{H(x)}{(4+x^2)^{\\frac{5}{2}}} dx$ from the output $\\{(X_n,Y_n),n\\geq 0 \\}$ of this Gibbs sampler."
   ]
  },
  {
   "cell_type": "markdown",
   "id": "2deb17b2",
   "metadata": {},
   "source": [
    "From the previous question we have that\n",
    "\n",
    "$$f_X (x)= \\frac{4 \\Gamma (\\frac{5}{2})}{\\sqrt{2 \\pi} (\\frac{x^2}{2}+2)^{\\frac{5}{2}}}=\n",
    "\\frac{2^{4} \\Gamma (\\frac{5}{2})}{\\sqrt{\\pi}}\n",
    "\\frac{1}{(4+x^2)^{\\frac{5}{2}}}.\n",
    "$$\n",
    "\n",
    "So, if we apply MonteCarlo we have that\n",
    "$$\\int_{\\mathbb{R}} \\frac{H(x)}{(4+x^2)^{\\frac{5}{2}}} dx \\approx \n",
    "\\sum_{i=0}^{N} H \\left( \\frac{2^{4} \\Gamma ( \\frac{5}{2})}{\\sqrt{2 \\pi}} X_i \\right) \n",
    ".$$ "
   ]
  }
 ],
 "metadata": {
  "kernelspec": {
   "display_name": "Python 3 (ipykernel)",
   "language": "python",
   "name": "python3"
  },
  "language_info": {
   "codemirror_mode": {
    "name": "ipython",
    "version": 3
   },
   "file_extension": ".py",
   "mimetype": "text/x-python",
   "name": "python",
   "nbconvert_exporter": "python",
   "pygments_lexer": "ipython3",
   "version": "3.8.13"
  }
 },
 "nbformat": 4,
 "nbformat_minor": 5
}
